{
 "cells": [
  {
   "cell_type": "code",
   "execution_count": null,
   "metadata": {},
   "outputs": [],
   "source": [
    "import pandas as pd\n",
    "import matplotlib.pyplot as plt\n",
    "import seaborn as sns\n",
    "import numpy as np\n",
    "from sklearn import linear_model\n",
    "from sklearn.metrics import mean_squared_error, r2_score\n",
    "sns.set(style=\"darkgrid\")"
   ]
  },
  {
   "cell_type": "code",
   "execution_count": null,
   "metadata": {},
   "outputs": [],
   "source": [
    "df = pd.read_csv('data.csv',sep=';')\n",
    "df.columns=['Throughput','Latency','Buffer Level','Quality']"
   ]
  },
  {
   "cell_type": "markdown",
   "metadata": {},
   "source": [
    "# Análisis de los datos \n",
    "\n",
    "**1. Comprobación del formato y contenido de los datos**\n",
    "\n",
    "    Primero, se mostrarán las 5 primeras y últimas filas del dataset, para comprobar que los datos con los que trabajamos son los esperados. También se comprobará su longitud, que debe ser en este caso 199 filas, y los tipos de cada uno de los datos disponibles.\n",
    "    \n",
    "    Por último, se hará una primera representación de los datos, simplemente se mostrará su evolución a lo largo del tiempo que dura la simulación de la reproducción del vídeo."
   ]
  },
  {
   "cell_type": "code",
   "execution_count": null,
   "metadata": {
    "scrolled": false
   },
   "outputs": [],
   "source": [
    "print(\"Primeras 5 líneas del dataset\")\n",
    "df.head()"
   ]
  },
  {
   "cell_type": "code",
   "execution_count": null,
   "metadata": {},
   "outputs": [],
   "source": [
    "print(\"Últimas 5 filas del dataset\")\n",
    "df.tail()"
   ]
  },
  {
   "cell_type": "code",
   "execution_count": null,
   "metadata": {},
   "outputs": [],
   "source": [
    "print(\"Número de filas del dataset:\", len(df))\n",
    "print(\"Tipos de los datos:\")\n",
    "df.dtypes"
   ]
  },
  {
   "cell_type": "code",
   "execution_count": null,
   "metadata": {
    "scrolled": true
   },
   "outputs": [],
   "source": [
    "print(\"Representación de los datos\")\n",
    "df.plot()"
   ]
  },
  {
   "cell_type": "markdown",
   "metadata": {},
   "source": [
    "Además de esta representación, visualizar las muestras de salida respecto a las de entrada puede ayudar a entender cómo se comporta la salida respecto a las diferentes entradas."
   ]
  },
  {
   "cell_type": "code",
   "execution_count": null,
   "metadata": {},
   "outputs": [],
   "source": [
    "print(\"Representación de las muestras de calidad de vídeo respecto al throughput\")\n",
    "plt.plot(df[\"Throughput\"],df[\"Quality\"],\"ro\")\n",
    "plt.ylabel(\"Quality\")\n",
    "plt.xlabel(\"Throughput\")"
   ]
  },
  {
   "cell_type": "code",
   "execution_count": null,
   "metadata": {},
   "outputs": [],
   "source": [
    "print(\"Representación de las muestras de calidad de vídeo respecto a la latencia de la red\")\n",
    "plt.plot(df[\"Latency\"],df[\"Quality\"],\"ro\")\n",
    "plt.ylabel(\"Quality\")\n",
    "plt.xlabel(\"Latency\")"
   ]
  },
  {
   "cell_type": "code",
   "execution_count": null,
   "metadata": {},
   "outputs": [],
   "source": [
    "print(\"Representación de las muestras de calidad de vídeo respecto al nivel de buffer\")\n",
    "plt.plot(df[\"Buffer Level\"],df[\"Quality\"],\"ro\")\n",
    "plt.ylabel(\"Quality\")\n",
    "plt.xlabel(\"Buffer Level\")"
   ]
  },
  {
   "cell_type": "markdown",
   "metadata": {},
   "source": [
    "**2. Cálculo y representación de métricas básicas**\n",
    "\n",
    "    Una vez hemos comprobado que los datos se han leído correctamente, se pueden comenzar a calcular parámetros estadísticos básicos. \n",
    "    \n",
    "    Para empezar, con la función describe() de la librería pandas, podemos obtener datos como la media, percentiles o la desviación media. \n",
    "    \n",
    "    Se calculará y representará también la correlación entre los diferentes datos, para comprobar la relacion entre la variable de salida con las de entrada. "
   ]
  },
  {
   "cell_type": "code",
   "execution_count": null,
   "metadata": {},
   "outputs": [],
   "source": [
    "df.describe()"
   ]
  },
  {
   "cell_type": "code",
   "execution_count": null,
   "metadata": {},
   "outputs": [],
   "source": [
    "print(\"Correlación entre las distintas columnas del dataset:\")\n",
    "df.corr()"
   ]
  },
  {
   "cell_type": "code",
   "execution_count": null,
   "metadata": {
    "scrolled": true
   },
   "outputs": [],
   "source": [
    "corr = df.corr()\n",
    "sns.heatmap(corr,\n",
    "               xticklabels=corr.columns.values,\n",
    "               yticklabels=corr.columns.values)"
   ]
  },
  {
   "cell_type": "code",
   "execution_count": null,
   "metadata": {},
   "outputs": [],
   "source": [
    "df.hist()\n",
    "plt.show()"
   ]
  },
  {
   "cell_type": "code",
   "execution_count": null,
   "metadata": {},
   "outputs": [],
   "source": [
    "X = df.drop(columns=['Quality'])\n",
    "y = df.loc[:,\"Quality\"]\n",
    "\n",
    "#Separamos las muestras para entrenamiento y test\n",
    "X_train = X[:int(len(X)*0.8)]\n",
    "y_train = y[:int(len(y) * 0.8)]\n",
    "\n",
    "X_test = X[int(len(X)*0.8):]\n",
    "y_test = y[int(len(y) * 0.8):]\n",
    "\n",
    "# Creamos el objeto de Regresión Lineal\n",
    "regr = linear_model.LinearRegression()\n",
    "\n",
    "# Entrenamos nuestro modelo\n",
    "regr.fit(X_train, y_train)\n",
    "print(\"Coeficientes obtenidos: \", regr.coef_)\n",
    "\n",
    "#Hacemos las predicciones ¿Redondeo? \n",
    "y_pred = regr.predict(X_test)\n",
    "\n",
    "#Imprimimos los resultados\n",
    "print(\"Calidades predichas: \", round(y_pred))\n",
    "print(\"Mean squared error: %.2f\" % mean_squared_error(y_test, y_pred))\n"
   ]
  }
 ],
 "metadata": {
  "kernelspec": {
   "display_name": "Python 3",
   "language": "python",
   "name": "python3"
  },
  "language_info": {
   "codemirror_mode": {
    "name": "ipython",
    "version": 3
   },
   "file_extension": ".py",
   "mimetype": "text/x-python",
   "name": "python",
   "nbconvert_exporter": "python",
   "pygments_lexer": "ipython3",
   "version": "3.8.3"
  }
 },
 "nbformat": 4,
 "nbformat_minor": 4
}
