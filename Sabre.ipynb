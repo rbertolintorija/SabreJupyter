{
 "cells": [
  {
   "cell_type": "code",
   "execution_count": 1,
   "metadata": {},
   "outputs": [],
   "source": [
    "import pandas as pd\n",
    "import matplotlib.pyplot as plt\n",
    "import seaborn as sns\n",
    "import numpy as np\n",
    "from sklearn import linear_model\n",
    "from sklearn.metrics import mean_squared_error, r2_score\n",
    "sns.set(style=\"darkgrid\")"
   ]
  },
  {
   "cell_type": "code",
   "execution_count": 2,
   "metadata": {},
   "outputs": [],
   "source": [
    "df = pd.read_csv('data.csv',sep=';')\n",
    "df.columns=['Throughput','Latency','Buffer Level','Quality']"
   ]
  },
  {
   "cell_type": "markdown",
   "metadata": {},
   "source": [
    "# Análisis de los datos \n",
    "\n",
    "**1. Comprobación del formato y contenido de los datos**\n",
    "\n",
    "    Primero, se mostrarán las 5 primeras y últimas filas del dataset, para comprobar que los datos con los que trabajamos son los esperados. También se comprobará su longitud, que debe ser en este caso 199 filas, y los tipos de cada uno de los datos disponibles.\n",
    "    \n",
    "    Por último, se hará una primera representación de los datos, simplemente se mostrará su evolución a lo largo del tiempo que dura la simulación de la reproducción del vídeo."
   ]
  },
  {
   "cell_type": "code",
   "execution_count": 3,
   "metadata": {
    "scrolled": false
   },
   "outputs": [
    {
     "name": "stdout",
     "output_type": "stream",
     "text": [
      "Primeras 5 líneas del dataset\n"
     ]
    },
    {
     "data": {
      "text/html": [
       "<div>\n",
       "<style scoped>\n",
       "    .dataframe tbody tr th:only-of-type {\n",
       "        vertical-align: middle;\n",
       "    }\n",
       "\n",
       "    .dataframe tbody tr th {\n",
       "        vertical-align: top;\n",
       "    }\n",
       "\n",
       "    .dataframe thead th {\n",
       "        text-align: right;\n",
       "    }\n",
       "</style>\n",
       "<table border=\"1\" class=\"dataframe\">\n",
       "  <thead>\n",
       "    <tr style=\"text-align: right;\">\n",
       "      <th></th>\n",
       "      <th>Throughput</th>\n",
       "      <th>Latency</th>\n",
       "      <th>Buffer Level</th>\n",
       "      <th>Quality</th>\n",
       "    </tr>\n",
       "  </thead>\n",
       "  <tbody>\n",
       "    <tr>\n",
       "      <th>0</th>\n",
       "      <td>5000.0</td>\n",
       "      <td>75</td>\n",
       "      <td>3000.0000</td>\n",
       "      <td>0</td>\n",
       "    </tr>\n",
       "    <tr>\n",
       "      <th>1</th>\n",
       "      <td>5000.0</td>\n",
       "      <td>75</td>\n",
       "      <td>4311.4080</td>\n",
       "      <td>7</td>\n",
       "    </tr>\n",
       "    <tr>\n",
       "      <th>2</th>\n",
       "      <td>5000.0</td>\n",
       "      <td>75</td>\n",
       "      <td>5538.0544</td>\n",
       "      <td>7</td>\n",
       "    </tr>\n",
       "    <tr>\n",
       "      <th>3</th>\n",
       "      <td>5000.0</td>\n",
       "      <td>75</td>\n",
       "      <td>6491.8752</td>\n",
       "      <td>7</td>\n",
       "    </tr>\n",
       "    <tr>\n",
       "      <th>4</th>\n",
       "      <td>5000.0</td>\n",
       "      <td>75</td>\n",
       "      <td>6867.8880</td>\n",
       "      <td>8</td>\n",
       "    </tr>\n",
       "  </tbody>\n",
       "</table>\n",
       "</div>"
      ],
      "text/plain": [
       "   Throughput  Latency  Buffer Level  Quality\n",
       "0      5000.0       75     3000.0000        0\n",
       "1      5000.0       75     4311.4080        7\n",
       "2      5000.0       75     5538.0544        7\n",
       "3      5000.0       75     6491.8752        7\n",
       "4      5000.0       75     6867.8880        8"
      ]
     },
     "execution_count": 3,
     "metadata": {},
     "output_type": "execute_result"
    }
   ],
   "source": [
    "print(\"Primeras 5 líneas del dataset\")\n",
    "df.head()"
   ]
  },
  {
   "cell_type": "code",
   "execution_count": 4,
   "metadata": {},
   "outputs": [
    {
     "name": "stdout",
     "output_type": "stream",
     "text": [
      "Últimas 5 filas del dataset\n"
     ]
    },
    {
     "data": {
      "text/html": [
       "<div>\n",
       "<style scoped>\n",
       "    .dataframe tbody tr th:only-of-type {\n",
       "        vertical-align: middle;\n",
       "    }\n",
       "\n",
       "    .dataframe tbody tr th {\n",
       "        vertical-align: top;\n",
       "    }\n",
       "\n",
       "    .dataframe thead th {\n",
       "        text-align: right;\n",
       "    }\n",
       "</style>\n",
       "<table border=\"1\" class=\"dataframe\">\n",
       "  <thead>\n",
       "    <tr style=\"text-align: right;\">\n",
       "      <th></th>\n",
       "      <th>Throughput</th>\n",
       "      <th>Latency</th>\n",
       "      <th>Buffer Level</th>\n",
       "      <th>Quality</th>\n",
       "    </tr>\n",
       "  </thead>\n",
       "  <tbody>\n",
       "    <tr>\n",
       "      <th>194</th>\n",
       "      <td>3000.0</td>\n",
       "      <td>150</td>\n",
       "      <td>11250.25333</td>\n",
       "      <td>6</td>\n",
       "    </tr>\n",
       "    <tr>\n",
       "      <th>195</th>\n",
       "      <td>3000.0</td>\n",
       "      <td>150</td>\n",
       "      <td>12119.97067</td>\n",
       "      <td>6</td>\n",
       "    </tr>\n",
       "    <tr>\n",
       "      <th>196</th>\n",
       "      <td>3000.0</td>\n",
       "      <td>150</td>\n",
       "      <td>11939.85600</td>\n",
       "      <td>7</td>\n",
       "    </tr>\n",
       "    <tr>\n",
       "      <th>197</th>\n",
       "      <td>3000.0</td>\n",
       "      <td>150</td>\n",
       "      <td>12857.39200</td>\n",
       "      <td>6</td>\n",
       "    </tr>\n",
       "    <tr>\n",
       "      <th>198</th>\n",
       "      <td>3000.0</td>\n",
       "      <td>150</td>\n",
       "      <td>13374.48000</td>\n",
       "      <td>7</td>\n",
       "    </tr>\n",
       "  </tbody>\n",
       "</table>\n",
       "</div>"
      ],
      "text/plain": [
       "     Throughput  Latency  Buffer Level  Quality\n",
       "194      3000.0      150   11250.25333        6\n",
       "195      3000.0      150   12119.97067        6\n",
       "196      3000.0      150   11939.85600        7\n",
       "197      3000.0      150   12857.39200        6\n",
       "198      3000.0      150   13374.48000        7"
      ]
     },
     "execution_count": 4,
     "metadata": {},
     "output_type": "execute_result"
    }
   ],
   "source": [
    "print(\"Últimas 5 filas del dataset\")\n",
    "df.tail()"
   ]
  },
  {
   "cell_type": "code",
   "execution_count": 5,
   "metadata": {},
   "outputs": [
    {
     "name": "stdout",
     "output_type": "stream",
     "text": [
      "Número de filas del dataset: 199\n",
      "Tipos de los datos:\n"
     ]
    },
    {
     "data": {
      "text/plain": [
       "Throughput      float64\n",
       "Latency           int64\n",
       "Buffer Level    float64\n",
       "Quality           int64\n",
       "dtype: object"
      ]
     },
     "execution_count": 5,
     "metadata": {},
     "output_type": "execute_result"
    }
   ],
   "source": [
    "print(\"Número de filas del dataset:\", len(df))\n",
    "print(\"Tipos de los datos:\")\n",
    "df.dtypes"
   ]
  },
  {
   "cell_type": "code",
   "execution_count": 6,
   "metadata": {
    "scrolled": true
   },
   "outputs": [
    {
     "name": "stdout",
     "output_type": "stream",
     "text": [
      "Representación de los datos\n"
     ]
    },
    {
     "data": {
      "text/plain": [
       "<matplotlib.axes._subplots.AxesSubplot at 0x2cad8909040>"
      ]
     },
     "execution_count": 6,
     "metadata": {},
     "output_type": "execute_result"
    },
    {
     "data": {
      "image/png": "[encoded data removed]",
      "text/plain": [
       "<Figure size 432x288 with 1 Axes>"
      ]
     },
     "metadata": {},
     "output_type": "display_data"
    }
   ],
   "source": [
    "print(\"Representación de los datos\")\n",
    "df.plot()"
   ]
  },
  {
   "cell_type": "markdown",
   "metadata": {},
   "source": [
    "Además de esta representación, visualizar las muestras de salida respecto a las de entrada puede ayudar a entender cómo se comporta la salida respecto a las diferentes entradas."
   ]
  },
  {
   "cell_type": "code",
   "execution_count": 7,
   "metadata": {},
   "outputs": [
    {
     "name": "stdout",
     "output_type": "stream",
     "text": [
      "Representación de las muestras de calidad de vídeo respecto al throughput\n"
     ]
    },
    {
     "data": {
      "text/plain": [
       "Text(0.5, 0, 'Throughput')"
      ]
     },
     "execution_count": 7,
     "metadata": {},
     "output_type": "execute_result"
    },
    {
     "data": {
      "image/png": "[encoded data removed]",
      "text/plain": [
       "<Figure size 432x288 with 1 Axes>"
      ]
     },
     "metadata": {},
     "output_type": "display_data"
    }
   ],
   "source": [
    "print(\"Representación de las muestras de calidad de vídeo respecto al throughput\")\n",
    "plt.plot(df[\"Throughput\"],df[\"Quality\"],\"ro\")\n",
    "plt.ylabel(\"Quality\")\n",
    "plt.xlabel(\"Throughput\")"
   ]
  },
  {
   "cell_type": "code",
   "execution_count": 8,
   "metadata": {},
   "outputs": [
    {
     "name": "stdout",
     "output_type": "stream",
     "text": [
      "Representación de las muestras de calidad de vídeo respecto a la latencia de la red\n"
     ]
    },
    {
     "data": {
      "text/plain": [
       "Text(0.5, 0, 'Latency')"
      ]
     },
     "execution_count": 8,
     "metadata": {},
     "output_type": "execute_result"
    },
    {
     "data": {
      "image/png": "[encoded data removed]",
      "text/plain": [
       "<Figure size 432x288 with 1 Axes>"
      ]
     },
     "metadata": {},
     "output_type": "display_data"
    }
   ],
   "source": [
    "print(\"Representación de las muestras de calidad de vídeo respecto a la latencia de la red\")\n",
    "plt.plot(df[\"Latency\"],df[\"Quality\"],\"ro\")\n",
    "plt.ylabel(\"Quality\")\n",
    "plt.xlabel(\"Latency\")"
   ]
  },
  {
   "cell_type": "code",
   "execution_count": 9,
   "metadata": {},
   "outputs": [
    {
     "name": "stdout",
     "output_type": "stream",
     "text": [
      "Representación de las muestras de calidad de vídeo respecto al nivel de buffer\n"
     ]
    },
    {
     "data": {
      "text/plain": [
       "Text(0.5, 0, 'Buffer Level')"
      ]
     },
     "execution_count": 9,
     "metadata": {},
     "output_type": "execute_result"
    },
    {
     "data": {
      "image/png": "[encoded data removed]",
      "text/plain": [
       "<Figure size 432x288 with 1 Axes>"
      ]
     },
     "metadata": {},
     "output_type": "display_data"
    }
   ],
   "source": [
    "print(\"Representación de las muestras de calidad de vídeo respecto al nivel de buffer\")\n",
    "plt.plot(df[\"Buffer Level\"],df[\"Quality\"],\"ro\")\n",
    "plt.ylabel(\"Quality\")\n",
    "plt.xlabel(\"Buffer Level\")"
   ]
  },
  {
   "cell_type": "markdown",
   "metadata": {},
   "source": [
    "**2. Cálculo y representación de métricas básicas**\n",
    "\n",
    "    Una vez hemos comprobado que los datos se han leído correctamente, se pueden comenzar a calcular parámetros estadísticos básicos. \n",
    "    \n",
    "    Para empezar, con la función describe() de la librería pandas, podemos obtener datos como la media, percentiles o la desviación media. \n",
    "    \n",
    "    Se calculará y representará también la correlación entre los diferentes datos, para comprobar la relacion entre la variable de salida con las de entrada. "
   ]
  },
  {
   "cell_type": "code",
   "execution_count": 10,
   "metadata": {},
   "outputs": [
    {
     "data": {
      "text/html": [
       "<div>\n",
       "<style scoped>\n",
       "    .dataframe tbody tr th:only-of-type {\n",
       "        vertical-align: middle;\n",
       "    }\n",
       "\n",
       "    .dataframe tbody tr th {\n",
       "        vertical-align: top;\n",
       "    }\n",
       "\n",
       "    .dataframe thead th {\n",
       "        text-align: right;\n",
       "    }\n",
       "</style>\n",
       "<table border=\"1\" class=\"dataframe\">\n",
       "  <thead>\n",
       "    <tr style=\"text-align: right;\">\n",
       "      <th></th>\n",
       "      <th>Throughput</th>\n",
       "      <th>Latency</th>\n",
       "      <th>Buffer Level</th>\n",
       "      <th>Quality</th>\n",
       "    </tr>\n",
       "  </thead>\n",
       "  <tbody>\n",
       "    <tr>\n",
       "      <th>count</th>\n",
       "      <td>199.000000</td>\n",
       "      <td>199.000000</td>\n",
       "      <td>199.000000</td>\n",
       "      <td>199.000000</td>\n",
       "    </tr>\n",
       "    <tr>\n",
       "      <th>mean</th>\n",
       "      <td>3223.636976</td>\n",
       "      <td>139.321608</td>\n",
       "      <td>11597.047185</td>\n",
       "      <td>6.582915</td>\n",
       "    </tr>\n",
       "    <tr>\n",
       "      <th>std</th>\n",
       "      <td>1258.840663</td>\n",
       "      <td>45.250895</td>\n",
       "      <td>3020.377089</td>\n",
       "      <td>1.185736</td>\n",
       "    </tr>\n",
       "    <tr>\n",
       "      <th>min</th>\n",
       "      <td>1500.000000</td>\n",
       "      <td>75.000000</td>\n",
       "      <td>3000.000000</td>\n",
       "      <td>0.000000</td>\n",
       "    </tr>\n",
       "    <tr>\n",
       "      <th>25%</th>\n",
       "      <td>3000.000000</td>\n",
       "      <td>75.000000</td>\n",
       "      <td>9342.808000</td>\n",
       "      <td>6.000000</td>\n",
       "    </tr>\n",
       "    <tr>\n",
       "      <th>50%</th>\n",
       "      <td>3000.000000</td>\n",
       "      <td>150.000000</td>\n",
       "      <td>12358.888000</td>\n",
       "      <td>7.000000</td>\n",
       "    </tr>\n",
       "    <tr>\n",
       "      <th>75%</th>\n",
       "      <td>5000.000000</td>\n",
       "      <td>150.000000</td>\n",
       "      <td>13604.302665</td>\n",
       "      <td>7.000000</td>\n",
       "    </tr>\n",
       "    <tr>\n",
       "      <th>max</th>\n",
       "      <td>5000.000000</td>\n",
       "      <td>200.000000</td>\n",
       "      <td>16185.184000</td>\n",
       "      <td>8.000000</td>\n",
       "    </tr>\n",
       "  </tbody>\n",
       "</table>\n",
       "</div>"
      ],
      "text/plain": [
       "        Throughput     Latency  Buffer Level     Quality\n",
       "count   199.000000  199.000000    199.000000  199.000000\n",
       "mean   3223.636976  139.321608  11597.047185    6.582915\n",
       "std    1258.840663   45.250895   3020.377089    1.185736\n",
       "min    1500.000000   75.000000   3000.000000    0.000000\n",
       "25%    3000.000000   75.000000   9342.808000    6.000000\n",
       "50%    3000.000000  150.000000  12358.888000    7.000000\n",
       "75%    5000.000000  150.000000  13604.302665    7.000000\n",
       "max    5000.000000  200.000000  16185.184000    8.000000"
      ]
     },
     "execution_count": 10,
     "metadata": {},
     "output_type": "execute_result"
    }
   ],
   "source": [
    "df.describe()"
   ]
  },
  {
   "cell_type": "code",
   "execution_count": 11,
   "metadata": {},
   "outputs": [
    {
     "name": "stdout",
     "output_type": "stream",
     "text": [
      "Correlación entre las distintas columnas del dataset:\n"
     ]
    },
    {
     "data": {
      "text/html": [
       "<div>\n",
       "<style scoped>\n",
       "    .dataframe tbody tr th:only-of-type {\n",
       "        vertical-align: middle;\n",
       "    }\n",
       "\n",
       "    .dataframe tbody tr th {\n",
       "        vertical-align: top;\n",
       "    }\n",
       "\n",
       "    .dataframe thead th {\n",
       "        text-align: right;\n",
       "    }\n",
       "</style>\n",
       "<table border=\"1\" class=\"dataframe\">\n",
       "  <thead>\n",
       "    <tr style=\"text-align: right;\">\n",
       "      <th></th>\n",
       "      <th>Throughput</th>\n",
       "      <th>Latency</th>\n",
       "      <th>Buffer Level</th>\n",
       "      <th>Quality</th>\n",
       "    </tr>\n",
       "  </thead>\n",
       "  <tbody>\n",
       "    <tr>\n",
       "      <th>Throughput</th>\n",
       "      <td>1.000000</td>\n",
       "      <td>-0.954896</td>\n",
       "      <td>0.522654</td>\n",
       "      <td>0.675885</td>\n",
       "    </tr>\n",
       "    <tr>\n",
       "      <th>Latency</th>\n",
       "      <td>-0.954896</td>\n",
       "      <td>1.000000</td>\n",
       "      <td>-0.491274</td>\n",
       "      <td>-0.704673</td>\n",
       "    </tr>\n",
       "    <tr>\n",
       "      <th>Buffer Level</th>\n",
       "      <td>0.522654</td>\n",
       "      <td>-0.491274</td>\n",
       "      <td>1.000000</td>\n",
       "      <td>0.589639</td>\n",
       "    </tr>\n",
       "    <tr>\n",
       "      <th>Quality</th>\n",
       "      <td>0.675885</td>\n",
       "      <td>-0.704673</td>\n",
       "      <td>0.589639</td>\n",
       "      <td>1.000000</td>\n",
       "    </tr>\n",
       "  </tbody>\n",
       "</table>\n",
       "</div>"
      ],
      "text/plain": [
       "              Throughput   Latency  Buffer Level   Quality\n",
       "Throughput      1.000000 -0.954896      0.522654  0.675885\n",
       "Latency        -0.954896  1.000000     -0.491274 -0.704673\n",
       "Buffer Level    0.522654 -0.491274      1.000000  0.589639\n",
       "Quality         0.675885 -0.704673      0.589639  1.000000"
      ]
     },
     "execution_count": 11,
     "metadata": {},
     "output_type": "execute_result"
    }
   ],
   "source": [
    "print(\"Correlación entre las distintas columnas del dataset:\")\n",
    "df.corr()"
   ]
  },
  {
   "cell_type": "code",
   "execution_count": 12,
   "metadata": {
    "scrolled": true
   },
   "outputs": [
    {
     "data": {
      "text/plain": [
       "<matplotlib.axes._subplots.AxesSubplot at 0x2cad8d80340>"
      ]
     },
     "execution_count": 12,
     "metadata": {},
     "output_type": "execute_result"
    },
    {
     "data": {
      "image/png": "[encoded data removed]",
      "text/plain": [
       "<Figure size 432x288 with 2 Axes>"
      ]
     },
     "metadata": {},
     "output_type": "display_data"
    }
   ],
   "source": [
    "corr = df.corr()\n",
    "sns.heatmap(corr,\n",
    "               xticklabels=corr.columns.values,\n",
    "               yticklabels=corr.columns.values)"
   ]
  },
  {
   "cell_type": "code",
   "execution_count": 13,
   "metadata": {},
   "outputs": [
    {
     "data": {
      "image/png": "[encoded data removed]",
      "text/plain": [
       "<Figure size 432x288 with 4 Axes>"
      ]
     },
     "metadata": {},
     "output_type": "display_data"
    }
   ],
   "source": [
    "df.hist()\n",
    "plt.show()"
   ]
  },
  {
   "cell_type": "code",
   "execution_count": 18,
   "metadata": {},
   "outputs": [
    {
     "name": "stdout",
     "output_type": "stream",
     "text": [
      "Coeficientes obtenidos:  [-0.00019197 -0.01947368  0.00013016]\n",
      "Calidades predichas:  [7. 7. 6. 7. 7. 6. 8. 8. 8. 8. 8. 8. 8. 8. 8. 8. 8. 7. 7. 7. 7. 7. 7. 7.\n",
      " 7. 7. 5. 5. 5. 5. 5. 5. 5. 5. 6. 6. 7. 6. 7. 7.]\n",
      "Mean squared error: 0.27\n"
     ]
    }
   ],
   "source": [
    "X = df.drop(columns=['Quality'])\n",
    "y = df.loc[:,\"Quality\"]\n",
    "\n",
    "#Separamos las muestras para entrenamiento y test\n",
    "X_train = X[:int(len(X)*0.8)]\n",
    "y_train = y[:int(len(y) * 0.8)]\n",
    "\n",
    "X_test = X[int(len(X)*0.8):]\n",
    "y_test = y[int(len(y) * 0.8):]\n",
    "\n",
    "# Creamos el objeto de Regresión Lineal\n",
    "regr = linear_model.LinearRegression()\n",
    "\n",
    "# Entrenamos nuestro modelo\n",
    "regr.fit(X_train, y_train)\n",
    "print(\"Coeficientes obtenidos: \", regr.coef_)\n",
    "\n",
    "#Hacemos las predicciones ¿Redondeo? \n",
    "y_pred = regr.predict(X_test)\n",
    "\n",
    "#Imprimimos los resultados\n",
    "print(\"Calidades predichas: \", y_pred.round(0))\n",
    "print(\"Mean squared error: %.2f\" % mean_squared_error(y_test, y_pred))\n"
   ]
  }
 ],
 "metadata": {
  "kernelspec": {
   "display_name": "Python 3",
   "language": "python",
   "name": "python3"
  },
  "language_info": {
   "codemirror_mode": {
    "name": "ipython",
    "version": 3
   },
   "file_extension": ".py",
   "mimetype": "text/x-python",
   "name": "python",
   "nbconvert_exporter": "python",
   "pygments_lexer": "ipython3",
   "version": "3.8.3"
  }
 },
 "nbformat": 4,
 "nbformat_minor": 4
}
